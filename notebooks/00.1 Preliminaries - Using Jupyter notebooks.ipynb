{
 "cells": [
  {
   "cell_type": "markdown",
   "metadata": {},
   "source": [
    "# Using Jupyter notebooks\n",
    "\n",
    "This notebook provides an overview on some core functionalities of Jupyter.\n",
    "\n",
    "You should read this notebook first if you're not familiar with how to run Python code in notebooks.\n",
    "\n",
    "If you're already familiar with using notebooks, you can skip this content or keep it as a reference.\n",
    "\n",
    "In this notebook:\n",
    "\n",
    "- Code cells and markdown cells\n",
    "- Running code\n",
    "- Overview on the interface\n",
    "- Some useful short-cuts\n",
    "- Jupyter Magics"
   ]
  },
  {
   "cell_type": "markdown",
   "metadata": {},
   "source": [
    "## Code cells and markdown cells\n",
    "\n",
    "A notebooks is made of a sequence of cells. There are different types of cells.\n",
    "\n",
    "Code cells contain code to execute, while markdown cells contain narrative (documentation), written using the markdown syntax.\n",
    "\n",
    "What follows is a code cell:\n",
    "\n",
    "- click in the middle of the cell to make it active\n",
    "- click on the \"Run\" icon in the toolbar to run the code"
   ]
  },
  {
   "cell_type": "code",
   "execution_count": null,
   "metadata": {},
   "outputs": [],
   "source": [
    "# This is a code cell\n",
    "\n",
    "# lines starting with a \"#\" are comments:\n",
    "# they work as in-line documentation for the developers, and they're not executed\n",
    "\n",
    "a = 2\n",
    "b = 3\n",
    "\n",
    "print(a + b)"
   ]
  },
  {
   "cell_type": "markdown",
   "metadata": {},
   "source": [
    "This one instead is a **markdown** cell.\n",
    "\n",
    "You can double-click in the middle of the text to see the actual markdown code.\n",
    "\n",
    "In order to render the markdown code into a nice-looking piece of documentation, you need to run the cell.\n",
    "\n",
    "Using markdown, you can format your documentation including things like\n",
    "\n",
    "# Big Headers\n",
    "\n",
    "## Smaller headers\n",
    "\n",
    "##### Much smaller headers\n",
    "\n",
    "Bullet lists:\n",
    "\n",
    "- One\n",
    "- Two\n",
    "- Three\n",
    "\n",
    "Numbered lists:\n",
    "\n",
    "1. One\n",
    "2. Two\n",
    "3. Three\n",
    "\n",
    "Text in *italic*, **bold** and `monospace`.\n",
    "\n",
    "External links, like these Markdown tutorials:\n",
    "\n",
    "- [Documentation from the Markdown author](https://daringfireball.net/projects/markdown/syntax)\n",
    "- [Markdown on Wikipedia](https://en.wikipedia.org/wiki/Markdown)\n",
    "- [A Markdown Cheat-sheet](https://github.com/adam-p/markdown-here/wiki/Markdown-Cheatsheet)"
   ]
  },
  {
   "cell_type": "markdown",
   "metadata": {},
   "source": [
    "### Defining cells as code or markdown\n",
    "\n",
    "You can change the type using the dropdown menu in the toolbar.\n",
    "\n",
    "Depending on the active cell, it will tell you what the currenct cell type is (e.g. Markdown for this specific cell, Code for the cell below)"
   ]
  },
  {
   "cell_type": "code",
   "execution_count": null,
   "metadata": {},
   "outputs": [],
   "source": [
    "# This is another code cell\n",
    "print(\"Hello PyData\")"
   ]
  },
  {
   "cell_type": "markdown",
   "metadata": {},
   "source": [
    "## Running code\n",
    "\n",
    "In order to run a code cell, there are several options:\n",
    "\n",
    "- Click on the \"Run\" icon in the toolbar\n",
    "- Click on the \"Cell\" menu, then \"Run cells\" (or any of the other \"Run ...\" option)\n",
    "- Use shift+enter\n",
    "- Use alt+enter (this will run the active cell, and add an empty cell right below)\n",
    "\n",
    "**Notice**\n",
    "\n",
    "The order of execution does matter, notebooks should be run top to bottom.\n",
    "\n",
    "The notebook environment is stateful: after running a cell, the state will be available for following cells (see example below)"
   ]
  },
  {
   "cell_type": "code",
   "execution_count": null,
   "metadata": {},
   "outputs": [],
   "source": [
    "language = \"Python\"\n",
    "\n",
    "print(\"I'm learning {} for data analysis\".format(language))"
   ]
  },
  {
   "cell_type": "code",
   "execution_count": null,
   "metadata": {},
   "outputs": [],
   "source": [
    "# If you have run the cell above, the variable language is still available\n",
    "print(language)"
   ]
  },
  {
   "cell_type": "markdown",
   "metadata": {},
   "source": [
    "When running a code cell, the output of the last expression is printed out by default, no need to explicitly `print()`:"
   ]
  },
  {
   "cell_type": "code",
   "execution_count": null,
   "metadata": {},
   "outputs": [],
   "source": [
    "language"
   ]
  },
  {
   "cell_type": "code",
   "execution_count": null,
   "metadata": {},
   "outputs": [],
   "source": [
    "a = 5\n",
    "b = 2\n",
    "\n",
    "a + b"
   ]
  },
  {
   "cell_type": "markdown",
   "metadata": {},
   "source": [
    "## Overview on the interface\n",
    "\n",
    "Next to each code cell, there's a placeholder for the order of execution: this will tell you which cells have been run and in which order.\n",
    "\n",
    "**Example**\n",
    "\n",
    "Run the following cell, the click on it and run it again. \n",
    "\n",
    "Observe the number increasing."
   ]
  },
  {
   "cell_type": "code",
   "execution_count": null,
   "metadata": {},
   "outputs": [],
   "source": [
    "print(\"Run me many times\")"
   ]
  },
  {
   "cell_type": "markdown",
   "metadata": {},
   "source": [
    "**Main functionalities**\n",
    "\n",
    "The \"Edit\" menu allows to perform operations on cells like copy/paste or merge.\n",
    "\n",
    "The \"View\" menu allows to visualise or hide the header, the toolbar, and the line numbers.\n",
    "\n",
    "The \"Insert\" menu allows to insert new empty cells.\n",
    "\n",
    "The \"Cell\" menu allows to run cells in different ways, change cell types and clear the output.\n",
    "\n",
    "The \"Kernel\" menu allows to interact with the kernel (the Python interpreter behind the notebook)\n",
    "\n",
    "**Tip**\n",
    "\n",
    "If a code cell gets stuck (e.g. in an infinite loop), you may need to **interrupt** or even **restart** the kernel."
   ]
  },
  {
   "cell_type": "markdown",
   "metadata": {},
   "source": [
    "## Some useful short-cuts\n",
    "\n",
    "If keyboard short-cuts make you more productive or comfortable, there are plenty available.\n",
    "\n",
    "To allow the use of short-cuts, you'll need to switch to \"Command mode\" pressing `Esc`. \n",
    "\n",
    "After pressing `Esc`, the active code cell will show a blue border (as opposed to the green border) and will be able to accept keyboard commands.\n",
    "\n",
    "To go back to \"Editing mode\", either press \"Enter\" or click in the middle of a cell (the cell border will turn green).\n",
    "\n",
    "- `Esc+M`: change cell type to Markdown\n",
    "- `Esc+Y`: change cell type to code\n",
    "\n",
    "\n",
    "- `Esc+A`: add new empty cell above\n",
    "- `Esc+B`: add new empty cell below\n",
    "- `Esc+DD` (two D's): delete current cell\n",
    "\n",
    "\n",
    "- `Esc+X`: cut selected cells\n",
    "- `Esc+C`: copy selected cells\n",
    "- `Esc+V`: paste selected cells\n",
    "\n",
    "Many more commands and short-cuts are available, you can visualise the list using:\n",
    "\n",
    "- `Esc+P`: show command palette"
   ]
  },
  {
   "cell_type": "markdown",
   "metadata": {},
   "source": [
    "## Jupyter Magics\n",
    "\n",
    "Magics (or magic commands) are useful helper functionalities that supercharge Jupyter notebooks.\n",
    "\n",
    "Code cells can run magic commands.\n",
    "\n",
    "There are two types of magics: line magic (starting with a single `%`) and cell magic (starting with a double `%%`).\n",
    "\n",
    "See the full list of what's available:"
   ]
  },
  {
   "cell_type": "code",
   "execution_count": null,
   "metadata": {},
   "outputs": [],
   "source": [
    "%lsmagic"
   ]
  },
  {
   "cell_type": "markdown",
   "metadata": {},
   "source": [
    "**Some useful magics in action**\n",
    "\n",
    "Run the cell below to load code from an external file"
   ]
  },
  {
   "cell_type": "code",
   "execution_count": null,
   "metadata": {},
   "outputs": [],
   "source": [
    "%load ../helpers/some_python_code.py"
   ]
  },
  {
   "cell_type": "markdown",
   "metadata": {},
   "source": [
    "Run the cell below to run the code from an external file"
   ]
  },
  {
   "cell_type": "code",
   "execution_count": null,
   "metadata": {},
   "outputs": [],
   "source": [
    "%run ../helpers/some_python_code.py"
   ]
  },
  {
   "cell_type": "markdown",
   "metadata": {},
   "source": [
    "Run the two cells below to time the code.\n",
    "\n",
    "Note: this is an example of cell magic."
   ]
  },
  {
   "cell_type": "code",
   "execution_count": null,
   "metadata": {},
   "outputs": [],
   "source": [
    "%%time\n",
    "\n",
    "slow_sum = 0\n",
    "\n",
    "for i in range(1000000):\n",
    "    slow_sum = slow_sum + i\n",
    "    \n",
    "slow_sum"
   ]
  },
  {
   "cell_type": "code",
   "execution_count": null,
   "metadata": {},
   "outputs": [],
   "source": [
    "%%time\n",
    "\n",
    "faster_sum = sum(range(1000000))\n",
    "\n",
    "faster_sum"
   ]
  },
  {
   "cell_type": "code",
   "execution_count": null,
   "metadata": {},
   "outputs": [],
   "source": []
  }
 ],
 "metadata": {
  "kernelspec": {
   "display_name": "Python 3",
   "language": "python",
   "name": "python3"
  },
  "language_info": {
   "codemirror_mode": {
    "name": "ipython",
    "version": 3
   },
   "file_extension": ".py",
   "mimetype": "text/x-python",
   "name": "python",
   "nbconvert_exporter": "python",
   "pygments_lexer": "ipython3",
   "version": "3.7.4"
  }
 },
 "nbformat": 4,
 "nbformat_minor": 2
}
